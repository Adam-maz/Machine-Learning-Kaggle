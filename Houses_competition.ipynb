{
  "nbformat": 4,
  "nbformat_minor": 0,
  "metadata": {
    "colab": {
      "provenance": [],
      "machine_shape": "hm",
      "gpuType": "A100"
    },
    "kernelspec": {
      "name": "python3",
      "display_name": "Python 3"
    },
    "language_info": {
      "name": "python"
    },
    "accelerator": "GPU"
  },
  "cells": [
    {
      "cell_type": "markdown",
      "source": [
        "# **1) Initiall instructions**"
      ],
      "metadata": {
        "id": "EEsjvWVSl1em"
      }
    },
    {
      "cell_type": "code",
      "execution_count": 1,
      "metadata": {
        "colab": {
          "base_uri": "https://localhost:8080/"
        },
        "id": "0NIdcm8lB4aB",
        "outputId": "dd66e2d4-bcdc-415d-bb2b-75cdd10c14b1"
      },
      "outputs": [
        {
          "output_type": "stream",
          "name": "stdout",
          "text": [
            "Collecting catboost\n",
            "  Downloading catboost-1.2.7-cp310-cp310-manylinux2014_x86_64.whl.metadata (1.2 kB)\n",
            "Requirement already satisfied: graphviz in /usr/local/lib/python3.10/dist-packages (from catboost) (0.20.3)\n",
            "Requirement already satisfied: matplotlib in /usr/local/lib/python3.10/dist-packages (from catboost) (3.8.0)\n",
            "Requirement already satisfied: numpy<2.0,>=1.16.0 in /usr/local/lib/python3.10/dist-packages (from catboost) (1.26.4)\n",
            "Requirement already satisfied: pandas>=0.24 in /usr/local/lib/python3.10/dist-packages (from catboost) (2.2.2)\n",
            "Requirement already satisfied: scipy in /usr/local/lib/python3.10/dist-packages (from catboost) (1.13.1)\n",
            "Requirement already satisfied: plotly in /usr/local/lib/python3.10/dist-packages (from catboost) (5.24.1)\n",
            "Requirement already satisfied: six in /usr/local/lib/python3.10/dist-packages (from catboost) (1.16.0)\n",
            "Requirement already satisfied: python-dateutil>=2.8.2 in /usr/local/lib/python3.10/dist-packages (from pandas>=0.24->catboost) (2.8.2)\n",
            "Requirement already satisfied: pytz>=2020.1 in /usr/local/lib/python3.10/dist-packages (from pandas>=0.24->catboost) (2024.2)\n",
            "Requirement already satisfied: tzdata>=2022.7 in /usr/local/lib/python3.10/dist-packages (from pandas>=0.24->catboost) (2024.2)\n",
            "Requirement already satisfied: contourpy>=1.0.1 in /usr/local/lib/python3.10/dist-packages (from matplotlib->catboost) (1.3.1)\n",
            "Requirement already satisfied: cycler>=0.10 in /usr/local/lib/python3.10/dist-packages (from matplotlib->catboost) (0.12.1)\n",
            "Requirement already satisfied: fonttools>=4.22.0 in /usr/local/lib/python3.10/dist-packages (from matplotlib->catboost) (4.55.1)\n",
            "Requirement already satisfied: kiwisolver>=1.0.1 in /usr/local/lib/python3.10/dist-packages (from matplotlib->catboost) (1.4.7)\n",
            "Requirement already satisfied: packaging>=20.0 in /usr/local/lib/python3.10/dist-packages (from matplotlib->catboost) (24.2)\n",
            "Requirement already satisfied: pillow>=6.2.0 in /usr/local/lib/python3.10/dist-packages (from matplotlib->catboost) (11.0.0)\n",
            "Requirement already satisfied: pyparsing>=2.3.1 in /usr/local/lib/python3.10/dist-packages (from matplotlib->catboost) (3.2.0)\n",
            "Requirement already satisfied: tenacity>=6.2.0 in /usr/local/lib/python3.10/dist-packages (from plotly->catboost) (9.0.0)\n",
            "Downloading catboost-1.2.7-cp310-cp310-manylinux2014_x86_64.whl (98.7 MB)\n",
            "\u001b[2K   \u001b[90m━━━━━━━━━━━━━━━━━━━━━━━━━━━━━━━━━━━━━━━━\u001b[0m \u001b[32m98.7/98.7 MB\u001b[0m \u001b[31m20.2 MB/s\u001b[0m eta \u001b[36m0:00:00\u001b[0m\n",
            "\u001b[?25hInstalling collected packages: catboost\n",
            "Successfully installed catboost-1.2.7\n",
            "Collecting optuna\n",
            "  Downloading optuna-4.1.0-py3-none-any.whl.metadata (16 kB)\n",
            "Collecting alembic>=1.5.0 (from optuna)\n",
            "  Downloading alembic-1.14.0-py3-none-any.whl.metadata (7.4 kB)\n",
            "Collecting colorlog (from optuna)\n",
            "  Downloading colorlog-6.9.0-py3-none-any.whl.metadata (10 kB)\n",
            "Requirement already satisfied: numpy in /usr/local/lib/python3.10/dist-packages (from optuna) (1.26.4)\n",
            "Requirement already satisfied: packaging>=20.0 in /usr/local/lib/python3.10/dist-packages (from optuna) (24.2)\n",
            "Requirement already satisfied: sqlalchemy>=1.4.2 in /usr/local/lib/python3.10/dist-packages (from optuna) (2.0.36)\n",
            "Requirement already satisfied: tqdm in /usr/local/lib/python3.10/dist-packages (from optuna) (4.66.6)\n",
            "Requirement already satisfied: PyYAML in /usr/local/lib/python3.10/dist-packages (from optuna) (6.0.2)\n",
            "Collecting Mako (from alembic>=1.5.0->optuna)\n",
            "  Downloading Mako-1.3.8-py3-none-any.whl.metadata (2.9 kB)\n",
            "Requirement already satisfied: typing-extensions>=4 in /usr/local/lib/python3.10/dist-packages (from alembic>=1.5.0->optuna) (4.12.2)\n",
            "Requirement already satisfied: greenlet!=0.4.17 in /usr/local/lib/python3.10/dist-packages (from sqlalchemy>=1.4.2->optuna) (3.1.1)\n",
            "Requirement already satisfied: MarkupSafe>=0.9.2 in /usr/local/lib/python3.10/dist-packages (from Mako->alembic>=1.5.0->optuna) (3.0.2)\n",
            "Downloading optuna-4.1.0-py3-none-any.whl (364 kB)\n",
            "\u001b[2K   \u001b[90m━━━━━━━━━━━━━━━━━━━━━━━━━━━━━━━━━━━━━━━━\u001b[0m \u001b[32m364.4/364.4 kB\u001b[0m \u001b[31m8.5 MB/s\u001b[0m eta \u001b[36m0:00:00\u001b[0m\n",
            "\u001b[?25hDownloading alembic-1.14.0-py3-none-any.whl (233 kB)\n",
            "\u001b[2K   \u001b[90m━━━━━━━━━━━━━━━━━━━━━━━━━━━━━━━━━━━━━━━━\u001b[0m \u001b[32m233.5/233.5 kB\u001b[0m \u001b[31m20.5 MB/s\u001b[0m eta \u001b[36m0:00:00\u001b[0m\n",
            "\u001b[?25hDownloading colorlog-6.9.0-py3-none-any.whl (11 kB)\n",
            "Downloading Mako-1.3.8-py3-none-any.whl (78 kB)\n",
            "\u001b[2K   \u001b[90m━━━━━━━━━━━━━━━━━━━━━━━━━━━━━━━━━━━━━━━━\u001b[0m \u001b[32m78.6/78.6 kB\u001b[0m \u001b[31m8.8 MB/s\u001b[0m eta \u001b[36m0:00:00\u001b[0m\n",
            "\u001b[?25hInstalling collected packages: Mako, colorlog, alembic, optuna\n",
            "Successfully installed Mako-1.3.8 alembic-1.14.0 colorlog-6.9.0 optuna-4.1.0\n"
          ]
        }
      ],
      "source": [
        "!pip install catboost\n",
        "!pip install xgboost\n",
        "!pip install optuna"
      ]
    },
    {
      "cell_type": "code",
      "source": [
        "from google.colab import drive\n",
        "drive.mount('/content/drive')"
      ],
      "metadata": {
        "colab": {
          "base_uri": "https://localhost:8080/"
        },
        "id": "mOMHjrCYCFRL",
        "outputId": "f776ab3c-1b7d-4df0-b0a7-f6f177175198"
      },
      "execution_count": 2,
      "outputs": [
        {
          "output_type": "stream",
          "name": "stdout",
          "text": [
            "Mounted at /content/drive\n"
          ]
        }
      ]
    },
    {
      "cell_type": "code",
      "source": [
        "import pandas as pd\n",
        "import optuna\n",
        "\n",
        "from sklearn.impute import SimpleImputer\n",
        "from sklearn.pipeline import Pipeline, make_pipeline\n",
        "from sklearn.preprocessing import StandardScaler, OneHotEncoder\n",
        "from sklearn.compose import ColumnTransformer\n",
        "from sklearn.model_selection import cross_val_score, KFold\n",
        "\n",
        "from xgboost import XGBRegressor\n",
        "from catboost import CatBoostRegressor"
      ],
      "metadata": {
        "id": "odKU6Vy9CKU0"
      },
      "execution_count": 3,
      "outputs": []
    },
    {
      "cell_type": "markdown",
      "source": [
        "# **2) Training data preparation**"
      ],
      "metadata": {
        "id": "P_YSY92jl5cy"
      }
    },
    {
      "cell_type": "code",
      "source": [
        "data_train = pd.read_csv('/content/drive/MyDrive/train_houses.csv')\n",
        "df_train = pd.DataFrame(data_train)"
      ],
      "metadata": {
        "id": "faNI4hZ_CONt"
      },
      "execution_count": 4,
      "outputs": []
    },
    {
      "cell_type": "code",
      "source": [
        "y = df_train['SalePrice']\n",
        "X = df_train.drop(columns=['Id', 'SalePrice'])\n",
        "\n",
        "cat_features = X.select_dtypes(include=['object', 'category']).columns\n",
        "num_features = X.select_dtypes(include=['int64', 'float64']).columns"
      ],
      "metadata": {
        "id": "AW4sbrL8C_tq"
      },
      "execution_count": 5,
      "outputs": []
    },
    {
      "cell_type": "code",
      "source": [
        "preprocessor = ColumnTransformer(\n",
        "    transformers=[\n",
        "        ('num', Pipeline(steps=[\n",
        "            ('imputer', SimpleImputer(strategy='median')),\n",
        "            ('scaler', StandardScaler())\n",
        "        ]), num_features),\n",
        "        ('cat', Pipeline(steps=[\n",
        "            ('imputer', SimpleImputer(strategy='most_frequent')),\n",
        "            ('encoder', OneHotEncoder(handle_unknown='ignore'))\n",
        "        ]), cat_features)\n",
        "    ]\n",
        ")"
      ],
      "metadata": {
        "id": "dVaziZfoDNCP"
      },
      "execution_count": 6,
      "outputs": []
    },
    {
      "cell_type": "markdown",
      "source": [
        "# **3) Model evaluation**"
      ],
      "metadata": {
        "id": "CbZejFVKoEnu"
      }
    },
    {
      "cell_type": "code",
      "source": [
        "kf = KFold(n_splits=5, shuffle=True, random_state=13)"
      ],
      "metadata": {
        "id": "oxyoMstypAtt"
      },
      "execution_count": null,
      "outputs": []
    },
    {
      "cell_type": "code",
      "source": [
        "list_of_models = [\n",
        "    ('CatBoost', CatBoostRegressor(random_state=13, verbose=0)),\n",
        "    ('XGBoost', XGBRegressor(random_state=13, eval_metric='rmse'))\n",
        "]\n",
        "\n",
        "results = {}\n",
        "for name, model in list_of_models:\n",
        "    pipeline = Pipeline(steps=[\n",
        "        ('preprocessor', preprocessor),\n",
        "        ('regressor', model)\n",
        "    ])\n",
        "\n",
        "    scores = cross_val_score(pipeline, X, y, cv=kf, scoring='neg_mean_absolute_error')\n",
        "    mean_score = scores.mean()\n",
        "    results[name] = mean_score\n",
        "\n",
        "\n",
        "for model_name, score in results.items():\n",
        "    print(f'{model_name}: Mean Negative MAE = {score:.4f}')\n",
        "\n",
        "\n",
        "best_model = max(results, key=results.get)\n",
        "print(f'Best model: {best_model}')\n"
      ],
      "metadata": {
        "colab": {
          "base_uri": "https://localhost:8080/"
        },
        "id": "dgesadMoFBTQ",
        "outputId": "6b77389d-25e8-4fb9-f77f-51c077dcaac9"
      },
      "execution_count": 7,
      "outputs": [
        {
          "output_type": "stream",
          "name": "stdout",
          "text": [
            "CatBoost: Mean Negative MAE = -14502.4121\n",
            "XGBoost: Mean Negative MAE = -17811.9416\n",
            "Najlepszy model: CatBoost\n"
          ]
        }
      ]
    },
    {
      "cell_type": "markdown",
      "source": [
        "# **4) Optimization of the best estimator**"
      ],
      "metadata": {
        "id": "DmYGiDbWoicp"
      }
    },
    {
      "cell_type": "code",
      "source": [
        "def objective(trial):\n",
        "  iterations = trial.suggest_int('iterations', 100, 1000)\n",
        "  depth = trial.suggest_int('depth', 4, 12)\n",
        "  learning_rate = trial.suggest_float('learning_rate', 0.001, 0.1)\n",
        "  l2_leaf_reg = trial.suggest_float('l2_leaf_reg', 1e-3, 10)\n",
        "  border_count = trial.suggest_int('border_count', 32, 255)\n",
        "  random_strength = trial.suggest_float('random_strength', 0.0, 1.0)\n",
        "  bagging_temperature = trial.suggest_float('bagging_temperature', 0.0, 1.0)\n",
        "  verbose = False\n",
        "  random_state = 13\n",
        "\n",
        "\n",
        "  model = CatBoostRegressor(iterations=iterations, depth=depth, learning_rate=learning_rate, l2_leaf_reg=l2_leaf_reg, border_count=border_count, verbose=verbose, random_state=random_state)\n",
        "  pipeline = Pipeline(steps=[\n",
        "        ('preprocessor', preprocessor),\n",
        "        ('regressor', model)\n",
        "    ])\n",
        "  score = cross_val_score(pipeline, X, y, cv=kf, scoring='neg_mean_absolute_error').mean()\n",
        "  return score"
      ],
      "metadata": {
        "id": "ZYlJqufgGO8-"
      },
      "execution_count": 29,
      "outputs": []
    },
    {
      "cell_type": "code",
      "source": [
        "study = optuna.create_study(direction='maximize')\n",
        "study.optimize(objective, n_trials=200)"
      ],
      "metadata": {
        "colab": {
          "base_uri": "https://localhost:8080/"
        },
        "collapsed": true,
        "id": "LkfnNDBoH1Wz",
        "outputId": "950cec1a-4e4f-4e9c-c166-23b7ec6a295c"
      },
      "execution_count": 30,
      "outputs": [
        {
          "output_type": "stream",
          "name": "stderr",
          "text": [
            "[I 2024-12-09 17:18:57,453] A new study created in memory with name: no-name-81b150de-c7c0-49d4-aca9-813ac848ea85\n",
            "[I 2024-12-09 17:19:00,601] Trial 0 finished with value: -17901.482423064776 and parameters: {'iterations': 517, 'depth': 4, 'learning_rate': 0.012283135354459636, 'l2_leaf_reg': 4.871971487345727, 'border_count': 161, 'random_strength': 0.6237273215527153, 'bagging_temperature': 0.7291026906762165}. Best is trial 0 with value: -17901.482423064776.\n",
            "[I 2024-12-09 17:19:04,505] Trial 1 finished with value: -17355.40341658712 and parameters: {'iterations': 333, 'depth': 6, 'learning_rate': 0.016760217860777103, 'l2_leaf_reg': 3.7552585132112424, 'border_count': 223, 'random_strength': 0.35705172405411767, 'bagging_temperature': 0.8806193500347215}. Best is trial 1 with value: -17355.40341658712.\n",
            "[I 2024-12-09 17:19:07,373] Trial 2 finished with value: -16488.069282176155 and parameters: {'iterations': 499, 'depth': 4, 'learning_rate': 0.029687809162304863, 'l2_leaf_reg': 8.303142317446191, 'border_count': 129, 'random_strength': 0.9605000515296082, 'bagging_temperature': 0.41802569580822335}. Best is trial 2 with value: -16488.069282176155.\n",
            "[I 2024-12-09 17:19:25,493] Trial 3 finished with value: -15119.495212652106 and parameters: {'iterations': 804, 'depth': 8, 'learning_rate': 0.0745292667270417, 'l2_leaf_reg': 9.022772916113318, 'border_count': 111, 'random_strength': 0.8290108270503964, 'bagging_temperature': 0.10917460906824794}. Best is trial 3 with value: -15119.495212652106.\n",
            "[I 2024-12-09 17:19:54,607] Trial 4 finished with value: -17943.01933162658 and parameters: {'iterations': 231, 'depth': 11, 'learning_rate': 0.037828763141542196, 'l2_leaf_reg': 9.210917029568943, 'border_count': 119, 'random_strength': 0.5384027166819751, 'bagging_temperature': 0.8064016776977371}. Best is trial 3 with value: -15119.495212652106.\n",
            "[I 2024-12-09 17:20:22,918] Trial 5 finished with value: -42686.708741782 and parameters: {'iterations': 116, 'depth': 12, 'learning_rate': 0.004768414301682663, 'l2_leaf_reg': 6.119402564490543, 'border_count': 166, 'random_strength': 0.13334013091850938, 'bagging_temperature': 0.8185768698531543}. Best is trial 3 with value: -15119.495212652106.\n",
            "[I 2024-12-09 17:20:28,583] Trial 6 finished with value: -15311.046272122709 and parameters: {'iterations': 335, 'depth': 7, 'learning_rate': 0.057748758928970086, 'l2_leaf_reg': 4.234402401544198, 'border_count': 252, 'random_strength': 0.7158563334234601, 'bagging_temperature': 0.6334526574583009}. Best is trial 3 with value: -15119.495212652106.\n",
            "[I 2024-12-09 17:20:40,400] Trial 7 finished with value: -20494.972589545738 and parameters: {'iterations': 169, 'depth': 10, 'learning_rate': 0.01919415555039039, 'l2_leaf_reg': 8.647422699060602, 'border_count': 142, 'random_strength': 0.2285125956742614, 'bagging_temperature': 0.5800710918348896}. Best is trial 3 with value: -15119.495212652106.\n",
            "[I 2024-12-09 17:22:08,294] Trial 8 finished with value: -16792.46672201837 and parameters: {'iterations': 610, 'depth': 11, 'learning_rate': 0.07194591749798289, 'l2_leaf_reg': 2.008283498010123, 'border_count': 238, 'random_strength': 0.09428368099398599, 'bagging_temperature': 0.8439993621079869}. Best is trial 3 with value: -15119.495212652106.\n",
            "[I 2024-12-09 17:25:45,745] Trial 9 finished with value: -25491.03293775299 and parameters: {'iterations': 814, 'depth': 12, 'learning_rate': 0.0020146393751426924, 'l2_leaf_reg': 0.6771062011498226, 'border_count': 227, 'random_strength': 0.36410630995110294, 'bagging_temperature': 0.29888863492572015}. Best is trial 3 with value: -15119.495212652106.\n",
            "[I 2024-12-09 17:26:20,127] Trial 10 finished with value: -15575.780433778133 and parameters: {'iterations': 986, 'depth': 9, 'learning_rate': 0.09901076111227775, 'l2_leaf_reg': 7.025373704627871, 'border_count': 47, 'random_strength': 0.9423080706941495, 'bagging_temperature': 0.04348716588241512}. Best is trial 3 with value: -15119.495212652106.\n",
            "[I 2024-12-09 17:26:36,715] Trial 11 finished with value: -15403.526194220225 and parameters: {'iterations': 752, 'depth': 8, 'learning_rate': 0.06377345484587489, 'l2_leaf_reg': 3.49417966650866, 'border_count': 67, 'random_strength': 0.7947810345410562, 'bagging_temperature': 0.1076329302837269}. Best is trial 3 with value: -15119.495212652106.\n",
            "[I 2024-12-09 17:26:42,177] Trial 12 finished with value: -15216.14381070261 and parameters: {'iterations': 362, 'depth': 7, 'learning_rate': 0.08139515730221551, 'l2_leaf_reg': 9.962290751498038, 'border_count': 96, 'random_strength': 0.7236437339897119, 'bagging_temperature': 0.5761933269754212}. Best is trial 3 with value: -15119.495212652106.\n",
            "[I 2024-12-09 17:26:56,323] Trial 13 finished with value: -15188.69430126857 and parameters: {'iterations': 992, 'depth': 7, 'learning_rate': 0.08446010134819953, 'l2_leaf_reg': 9.981701785433179, 'border_count': 87, 'random_strength': 0.81297384590516, 'bagging_temperature': 0.25180872399923226}. Best is trial 3 with value: -15119.495212652106.\n",
            "[I 2024-12-09 17:27:18,231] Trial 14 finished with value: -15146.956343841262 and parameters: {'iterations': 998, 'depth': 8, 'learning_rate': 0.09100573808360296, 'l2_leaf_reg': 7.328722479063279, 'border_count': 86, 'random_strength': 0.8490280856350769, 'bagging_temperature': 0.20313812997022712}. Best is trial 3 with value: -15119.495212652106.\n",
            "[I 2024-12-09 17:27:46,407] Trial 15 finished with value: -15570.655420200146 and parameters: {'iterations': 829, 'depth': 9, 'learning_rate': 0.09645012447761578, 'l2_leaf_reg': 7.063763488445077, 'border_count': 36, 'random_strength': 0.8746669494128604, 'bagging_temperature': 0.18668630586088122}. Best is trial 3 with value: -15119.495212652106.\n",
            "[I 2024-12-09 17:27:55,312] Trial 16 finished with value: -14920.841335820714 and parameters: {'iterations': 886, 'depth': 6, 'learning_rate': 0.08142268328949069, 'l2_leaf_reg': 7.58281728996306, 'border_count': 100, 'random_strength': 0.5657695573509847, 'bagging_temperature': 0.39210680644825024}. Best is trial 16 with value: -14920.841335820714.\n",
            "[I 2024-12-09 17:28:00,541] Trial 17 finished with value: -15120.114184385015 and parameters: {'iterations': 665, 'depth': 5, 'learning_rate': 0.04748085281043325, 'l2_leaf_reg': 5.921807586350139, 'border_count': 189, 'random_strength': 0.4677256071243588, 'bagging_temperature': 0.4278758326909071}. Best is trial 16 with value: -14920.841335820714.\n",
            "[I 2024-12-09 17:28:09,325] Trial 18 finished with value: -14877.502472823535 and parameters: {'iterations': 859, 'depth': 6, 'learning_rate': 0.07050816986429417, 'l2_leaf_reg': 8.123298828134239, 'border_count': 108, 'random_strength': 0.6029585443893214, 'bagging_temperature': 0.3481797425242703}. Best is trial 18 with value: -14877.502472823535.\n",
            "[I 2024-12-09 17:28:15,737] Trial 19 finished with value: -14806.351687009907 and parameters: {'iterations': 885, 'depth': 5, 'learning_rate': 0.06526057410270181, 'l2_leaf_reg': 7.671718487250847, 'border_count': 59, 'random_strength': 0.5639179058461625, 'bagging_temperature': 0.9921912462984546}. Best is trial 19 with value: -14806.351687009907.\n",
            "[I 2024-12-09 17:28:21,016] Trial 20 finished with value: -15076.701153259211 and parameters: {'iterations': 711, 'depth': 5, 'learning_rate': 0.054603892332773275, 'l2_leaf_reg': 6.253097086611092, 'border_count': 63, 'random_strength': 0.3978301359157733, 'bagging_temperature': 0.966101040794441}. Best is trial 19 with value: -14806.351687009907.\n",
            "[I 2024-12-09 17:28:29,897] Trial 21 finished with value: -14804.964074462961 and parameters: {'iterations': 891, 'depth': 6, 'learning_rate': 0.06705844259465887, 'l2_leaf_reg': 7.893918699302694, 'border_count': 66, 'random_strength': 0.5917597742565639, 'bagging_temperature': 0.3880283670203846}. Best is trial 21 with value: -14804.964074462961.\n",
            "[I 2024-12-09 17:28:36,572] Trial 22 finished with value: -15034.762058311488 and parameters: {'iterations': 906, 'depth': 5, 'learning_rate': 0.06610290429121969, 'l2_leaf_reg': 8.063624120707606, 'border_count': 66, 'random_strength': 0.6525563485184723, 'bagging_temperature': 0.33479890379555455}. Best is trial 21 with value: -14804.964074462961.\n",
            "[I 2024-12-09 17:28:45,242] Trial 23 finished with value: -14835.719643673714 and parameters: {'iterations': 899, 'depth': 6, 'learning_rate': 0.046413512655425884, 'l2_leaf_reg': 5.523468172174769, 'border_count': 52, 'random_strength': 0.4695019671100238, 'bagging_temperature': 0.5118953757479997}. Best is trial 21 with value: -14804.964074462961.\n",
            "[I 2024-12-09 17:28:51,692] Trial 24 finished with value: -14929.520239041038 and parameters: {'iterations': 916, 'depth': 5, 'learning_rate': 0.04563329365881096, 'l2_leaf_reg': 5.339085539041752, 'border_count': 32, 'random_strength': 0.4717800031706884, 'bagging_temperature': 0.5007477251240675}. Best is trial 21 with value: -14804.964074462961.\n",
            "[I 2024-12-09 17:28:55,763] Trial 25 finished with value: -14899.904491034016 and parameters: {'iterations': 753, 'depth': 4, 'learning_rate': 0.03784258073785127, 'l2_leaf_reg': 2.7355835240989594, 'border_count': 49, 'random_strength': 0.26843550774631536, 'bagging_temperature': 0.6838720067744177}. Best is trial 21 with value: -14804.964074462961.\n",
            "[I 2024-12-09 17:29:01,975] Trial 26 finished with value: -14879.713403844526 and parameters: {'iterations': 599, 'depth': 6, 'learning_rate': 0.06014346034373081, 'l2_leaf_reg': 6.611191919771634, 'border_count': 78, 'random_strength': 0.4708089976796525, 'bagging_temperature': 0.9987596191001312}. Best is trial 21 with value: -14804.964074462961.\n",
            "[I 2024-12-09 17:29:15,126] Trial 27 finished with value: -14822.050900398875 and parameters: {'iterations': 927, 'depth': 7, 'learning_rate': 0.04104395890520507, 'l2_leaf_reg': 5.571019602738037, 'border_count': 56, 'random_strength': 0.7114173759992711, 'bagging_temperature': 0.49918022721347427}. Best is trial 21 with value: -14804.964074462961.\n",
            "[I 2024-12-09 17:29:21,748] Trial 28 finished with value: -15313.902600412292 and parameters: {'iterations': 443, 'depth': 7, 'learning_rate': 0.035676098566002956, 'l2_leaf_reg': 4.688776130202733, 'border_count': 75, 'random_strength': 0.6992452283445094, 'bagging_temperature': 0.4622704020265617}. Best is trial 21 with value: -14804.964074462961.\n",
            "[I 2024-12-09 17:29:27,050] Trial 29 finished with value: -14956.45955332666 and parameters: {'iterations': 940, 'depth': 4, 'learning_rate': 0.05514463553597121, 'l2_leaf_reg': 4.910590355855331, 'border_count': 161, 'random_strength': 0.6286639909411762, 'bagging_temperature': 0.6737405130142035}. Best is trial 21 with value: -14804.964074462961.\n",
            "[I 2024-12-09 17:29:32,127] Trial 30 finished with value: -15888.452481874152 and parameters: {'iterations': 690, 'depth': 5, 'learning_rate': 0.026141074802950262, 'l2_leaf_reg': 7.8027481806556205, 'border_count': 54, 'random_strength': 0.7550203382773427, 'bagging_temperature': 0.7669513615185618}. Best is trial 21 with value: -14804.964074462961.\n",
            "[I 2024-12-09 17:29:39,661] Trial 31 finished with value: -14873.715012402472 and parameters: {'iterations': 774, 'depth': 6, 'learning_rate': 0.049740582772469136, 'l2_leaf_reg': 5.405654511684375, 'border_count': 47, 'random_strength': 0.5826608434265492, 'bagging_temperature': 0.5155490270355142}. Best is trial 21 with value: -14804.964074462961.\n",
            "[I 2024-12-09 17:29:47,913] Trial 32 finished with value: -14924.509926387986 and parameters: {'iterations': 864, 'depth': 6, 'learning_rate': 0.045756013226139036, 'l2_leaf_reg': 5.431234987140189, 'border_count': 32, 'random_strength': 0.40169278119149165, 'bagging_temperature': 0.91556727169712}. Best is trial 21 with value: -14804.964074462961.\n",
            "[I 2024-12-09 17:30:01,110] Trial 33 finished with value: -14893.556094599175 and parameters: {'iterations': 934, 'depth': 7, 'learning_rate': 0.06541274278828524, 'l2_leaf_reg': 6.712049348430632, 'border_count': 60, 'random_strength': 0.6645420822082763, 'bagging_temperature': 0.5949148483063347}. Best is trial 21 with value: -14804.964074462961.\n",
            "[I 2024-12-09 17:30:06,146] Trial 34 finished with value: -14916.042673945907 and parameters: {'iterations': 941, 'depth': 4, 'learning_rate': 0.03997765960719174, 'l2_leaf_reg': 4.05772000576795, 'border_count': 80, 'random_strength': 0.5229237476267032, 'bagging_temperature': 0.7275676959203755}. Best is trial 21 with value: -14804.964074462961.\n",
            "[I 2024-12-09 17:30:18,431] Trial 35 finished with value: -15384.913123765005 and parameters: {'iterations': 848, 'depth': 7, 'learning_rate': 0.029476328122043493, 'l2_leaf_reg': 9.23144866394142, 'border_count': 95, 'random_strength': 0.43676495953511635, 'bagging_temperature': 0.5196226034095711}. Best is trial 21 with value: -14804.964074462961.\n",
            "[I 2024-12-09 17:30:24,429] Trial 36 finished with value: -15202.384855942006 and parameters: {'iterations': 795, 'depth': 5, 'learning_rate': 0.04193009296807999, 'l2_leaf_reg': 5.875931406650855, 'border_count': 123, 'random_strength': 0.2819992783070562, 'bagging_temperature': 0.40003383330638825}. Best is trial 21 with value: -14804.964074462961.\n",
            "[I 2024-12-09 17:30:43,070] Trial 37 finished with value: -15202.113329079646 and parameters: {'iterations': 893, 'depth': 8, 'learning_rate': 0.05284412933633549, 'l2_leaf_reg': 3.2381279173757234, 'border_count': 44, 'random_strength': 0.5399192781921918, 'bagging_temperature': 0.2702497092777083}. Best is trial 21 with value: -14804.964074462961.\n",
            "[I 2024-12-09 17:30:48,446] Trial 38 finished with value: -16876.464925703505 and parameters: {'iterations': 500, 'depth': 6, 'learning_rate': 0.01967896895861281, 'l2_leaf_reg': 8.76384011354873, 'border_count': 135, 'random_strength': 0.32655407082924637, 'bagging_temperature': 0.5469068360233627}. Best is trial 21 with value: -14804.964074462961.\n",
            "[I 2024-12-09 17:31:18,759] Trial 39 finished with value: -15441.018615684497 and parameters: {'iterations': 726, 'depth': 9, 'learning_rate': 0.0749006439520804, 'l2_leaf_reg': 4.776868339526601, 'border_count': 186, 'random_strength': 0.6688132560390928, 'bagging_temperature': 0.4590593741654405}. Best is trial 21 with value: -14804.964074462961.\n",
            "[I 2024-12-09 17:31:22,537] Trial 40 finished with value: -15746.627245507872 and parameters: {'iterations': 666, 'depth': 4, 'learning_rate': 0.033138860560331815, 'l2_leaf_reg': 6.470856001822089, 'border_count': 69, 'random_strength': 0.9020651247063731, 'bagging_temperature': 0.6520969863081831}. Best is trial 21 with value: -14804.964074462961.\n",
            "[I 2024-12-09 17:31:30,094] Trial 41 finished with value: -14901.201207901997 and parameters: {'iterations': 778, 'depth': 6, 'learning_rate': 0.050574723964150727, 'l2_leaf_reg': 5.454129083326655, 'border_count': 44, 'random_strength': 0.5836577310100053, 'bagging_temperature': 0.47375161509076663}. Best is trial 21 with value: -14804.964074462961.\n",
            "[I 2024-12-09 17:31:39,499] Trial 42 finished with value: -15000.581743170798 and parameters: {'iterations': 957, 'depth': 6, 'learning_rate': 0.06176501512597907, 'l2_leaf_reg': 4.492289190744577, 'border_count': 56, 'random_strength': 0.5195518775933889, 'bagging_temperature': 0.8771230188804536}. Best is trial 21 with value: -14804.964074462961.\n",
            "[I 2024-12-09 17:31:47,300] Trial 43 finished with value: -14948.328089027655 and parameters: {'iterations': 817, 'depth': 6, 'learning_rate': 0.04890494831926474, 'l2_leaf_reg': 5.861125461255976, 'border_count': 42, 'random_strength': 0.6056668194585226, 'bagging_temperature': 0.3585524726246134}. Best is trial 21 with value: -14804.964074462961.\n",
            "[I 2024-12-09 17:31:59,638] Trial 44 finished with value: -14927.828253641686 and parameters: {'iterations': 877, 'depth': 7, 'learning_rate': 0.0579810441115631, 'l2_leaf_reg': 1.4959718435140834, 'border_count': 55, 'random_strength': 0.736712706884461, 'bagging_temperature': 0.6067766107279393}. Best is trial 21 with value: -14804.964074462961.\n",
            "[I 2024-12-09 17:32:06,769] Trial 45 finished with value: -14920.581242190214 and parameters: {'iterations': 961, 'depth': 5, 'learning_rate': 0.06901765152750321, 'l2_leaf_reg': 8.429150377868535, 'border_count': 110, 'random_strength': 0.5670621315777397, 'bagging_temperature': 0.516306063227991}. Best is trial 21 with value: -14804.964074462961.\n",
            "[I 2024-12-09 17:32:23,847] Trial 46 finished with value: -15310.967337856788 and parameters: {'iterations': 774, 'depth': 8, 'learning_rate': 0.04230893948221105, 'l2_leaf_reg': 9.317282084953648, 'border_count': 73, 'random_strength': 0.7566578767282748, 'bagging_temperature': 9.242196036218786e-05}. Best is trial 21 with value: -14804.964074462961.\n",
            "[I 2024-12-09 17:32:31,890] Trial 47 finished with value: -15117.047389173511 and parameters: {'iterations': 566, 'depth': 7, 'learning_rate': 0.07625098008252036, 'l2_leaf_reg': 4.003261760495949, 'border_count': 50, 'random_strength': 0.19812035204613876, 'bagging_temperature': 0.7205879088191336}. Best is trial 21 with value: -14804.964074462961.\n",
            "[I 2024-12-09 17:32:34,672] Trial 48 finished with value: -16129.594738383626 and parameters: {'iterations': 247, 'depth': 6, 'learning_rate': 0.05711750615350816, 'l2_leaf_reg': 6.98438644166076, 'border_count': 87, 'random_strength': 0.676682355742481, 'bagging_temperature': 0.7842026815591798}. Best is trial 21 with value: -14804.964074462961.\n",
            "[I 2024-12-09 17:32:40,533] Trial 49 finished with value: -17097.897117694443 and parameters: {'iterations': 830, 'depth': 5, 'learning_rate': 0.0085406776869877, 'l2_leaf_reg': 5.169796450507613, 'border_count': 39, 'random_strength': 0.027529751088468113, 'bagging_temperature': 0.551286119442588}. Best is trial 21 with value: -14804.964074462961.\n",
            "[I 2024-12-09 17:32:54,506] Trial 50 finished with value: -15051.950665525661 and parameters: {'iterations': 991, 'depth': 7, 'learning_rate': 0.05167647461189065, 'l2_leaf_reg': 7.295555037181172, 'border_count': 62, 'random_strength': 0.49785452312772127, 'bagging_temperature': 0.3171327367040905}. Best is trial 21 with value: -14804.964074462961.\n",
            "[I 2024-12-09 17:33:03,293] Trial 51 finished with value: -14669.917765381373 and parameters: {'iterations': 861, 'depth': 6, 'learning_rate': 0.07258582149386639, 'l2_leaf_reg': 8.133416799878134, 'border_count': 107, 'random_strength': 0.6170214268858472, 'bagging_temperature': 0.3829232649343084}. Best is trial 51 with value: -14669.917765381373.\n",
            "[I 2024-12-09 17:33:12,326] Trial 52 finished with value: -14913.062243418031 and parameters: {'iterations': 904, 'depth': 6, 'learning_rate': 0.07833445684344403, 'l2_leaf_reg': 7.636797432435834, 'border_count': 84, 'random_strength': 0.6131012979378185, 'bagging_temperature': 0.42608240861229346}. Best is trial 51 with value: -14669.917765381373.\n",
            "[I 2024-12-09 17:33:20,872] Trial 53 finished with value: -14866.127478445758 and parameters: {'iterations': 849, 'depth': 6, 'learning_rate': 0.08625198645906164, 'l2_leaf_reg': 8.86248001513778, 'border_count': 97, 'random_strength': 0.5512412966386906, 'bagging_temperature': 0.20576387291950382}. Best is trial 51 with value: -14669.917765381373.\n",
            "[I 2024-12-09 17:33:27,339] Trial 54 finished with value: -14932.302988253057 and parameters: {'iterations': 863, 'depth': 5, 'learning_rate': 0.08711293549283598, 'l2_leaf_reg': 9.623696193085348, 'border_count': 122, 'random_strength': 0.4266212220892721, 'bagging_temperature': 0.14992661632016593}. Best is trial 51 with value: -14669.917765381373.\n",
            "[I 2024-12-09 17:33:39,410] Trial 55 finished with value: -15182.349610792142 and parameters: {'iterations': 829, 'depth': 7, 'learning_rate': 0.09284794668829043, 'l2_leaf_reg': 8.70004064981752, 'border_count': 94, 'random_strength': 0.6408967274408481, 'bagging_temperature': 0.2556276508482837}. Best is trial 51 with value: -14669.917765381373.\n",
            "[I 2024-12-09 17:34:01,097] Trial 56 finished with value: -15382.873698913385 and parameters: {'iterations': 971, 'depth': 8, 'learning_rate': 0.0859698047495371, 'l2_leaf_reg': 8.162152351829434, 'border_count': 104, 'random_strength': 0.7934879797276769, 'bagging_temperature': 0.3841088627938166}. Best is trial 51 with value: -14669.917765381373.\n",
            "[I 2024-12-09 17:34:08,103] Trial 57 finished with value: -15053.184299893226 and parameters: {'iterations': 922, 'depth': 5, 'learning_rate': 0.06811137777730401, 'l2_leaf_reg': 8.84106003803683, 'border_count': 150, 'random_strength': 0.3471880549944712, 'bagging_temperature': 0.1070324747830762}. Best is trial 51 with value: -14669.917765381373.\n",
            "[I 2024-12-09 17:34:12,487] Trial 58 finished with value: -15228.35040417965 and parameters: {'iterations': 417, 'depth': 6, 'learning_rate': 0.08000119713956436, 'l2_leaf_reg': 9.623783357505237, 'border_count': 73, 'random_strength': 0.5452209286363396, 'bagging_temperature': 0.2335465806399194}. Best is trial 51 with value: -14669.917765381373.\n",
            "[I 2024-12-09 17:34:21,415] Trial 59 finished with value: -14809.488786965583 and parameters: {'iterations': 881, 'depth': 6, 'learning_rate': 0.07271828799401325, 'l2_leaf_reg': 8.446319657450509, 'border_count': 95, 'random_strength': 0.4999077453328724, 'bagging_temperature': 0.3658610969696133}. Best is trial 51 with value: -14669.917765381373.\n",
            "[I 2024-12-09 17:34:32,550] Trial 60 finished with value: -15180.310532522994 and parameters: {'iterations': 734, 'depth': 7, 'learning_rate': 0.07300827186140534, 'l2_leaf_reg': 7.828154835180645, 'border_count': 115, 'random_strength': 0.6951654735675561, 'bagging_temperature': 0.3608142498791147}. Best is trial 51 with value: -14669.917765381373.\n",
            "[I 2024-12-09 17:34:41,993] Trial 61 finished with value: -14966.85051813435 and parameters: {'iterations': 895, 'depth': 6, 'learning_rate': 0.08380929888007765, 'l2_leaf_reg': 8.448981896561074, 'border_count': 134, 'random_strength': 0.4784930906151399, 'bagging_temperature': 0.30177724948836765}. Best is trial 51 with value: -14669.917765381373.\n",
            "[I 2024-12-09 17:34:50,811] Trial 62 finished with value: -14752.065235490916 and parameters: {'iterations': 856, 'depth': 6, 'learning_rate': 0.08993079288508156, 'l2_leaf_reg': 7.377464715986665, 'border_count': 93, 'random_strength': 0.5067989525670027, 'bagging_temperature': 0.1753891344764737}. Best is trial 51 with value: -14669.917765381373.\n",
            "[I 2024-12-09 17:34:56,938] Trial 63 finished with value: -15077.473603763001 and parameters: {'iterations': 808, 'depth': 5, 'learning_rate': 0.06295621944045544, 'l2_leaf_reg': 7.301913568122569, 'border_count': 89, 'random_strength': 0.5055859200355703, 'bagging_temperature': 0.0580759316781297}. Best is trial 51 with value: -14669.917765381373.\n",
            "[I 2024-12-09 17:35:10,368] Trial 64 finished with value: -15102.028525588268 and parameters: {'iterations': 922, 'depth': 7, 'learning_rate': 0.09892026669435741, 'l2_leaf_reg': 7.952158753244688, 'border_count': 79, 'random_strength': 0.4350740796718847, 'bagging_temperature': 0.42754084867923664}. Best is trial 51 with value: -14669.917765381373.\n",
            "[I 2024-12-09 17:35:19,338] Trial 65 finished with value: -14865.610871141882 and parameters: {'iterations': 879, 'depth': 6, 'learning_rate': 0.07152906751369996, 'l2_leaf_reg': 6.818216028234284, 'border_count': 66, 'random_strength': 0.3853298690895268, 'bagging_temperature': 0.477283006798814}. Best is trial 51 with value: -14669.917765381373.\n",
            "[I 2024-12-09 17:35:26,568] Trial 66 finished with value: -14943.193142061069 and parameters: {'iterations': 957, 'depth': 5, 'learning_rate': 0.06678059024705027, 'l2_leaf_reg': 7.4932101581590524, 'border_count': 105, 'random_strength': 0.5902225030838564, 'bagging_temperature': 0.14759993885662626}. Best is trial 51 with value: -14669.917765381373.\n",
            "[I 2024-12-09 17:35:36,621] Trial 67 finished with value: -14933.83079449794 and parameters: {'iterations': 999, 'depth': 6, 'learning_rate': 0.09016533977448085, 'l2_leaf_reg': 6.362331562445181, 'border_count': 59, 'random_strength': 0.6362718571844356, 'bagging_temperature': 0.2757647271557587}. Best is trial 51 with value: -14669.917765381373.\n",
            "[I 2024-12-09 17:35:48,903] Trial 68 finished with value: -15128.981763262567 and parameters: {'iterations': 842, 'depth': 7, 'learning_rate': 0.07736618322704301, 'l2_leaf_reg': 8.297788145230843, 'border_count': 69, 'random_strength': 0.5067189639530759, 'bagging_temperature': 0.3249014738625154}. Best is trial 51 with value: -14669.917765381373.\n",
            "[I 2024-12-09 17:35:49,933] Trial 69 finished with value: -19798.14613062892 and parameters: {'iterations': 101, 'depth': 4, 'learning_rate': 0.04520996838331498, 'l2_leaf_reg': 7.154018728555481, 'border_count': 252, 'random_strength': 0.4786251938213453, 'bagging_temperature': 0.3969329987513388}. Best is trial 51 with value: -14669.917765381373.\n",
            "[I 2024-12-09 17:38:59,779] Trial 70 finished with value: -16485.460546634044 and parameters: {'iterations': 796, 'depth': 12, 'learning_rate': 0.05926499107209794, 'l2_leaf_reg': 6.036005064418473, 'border_count': 91, 'random_strength': 0.4374669515231195, 'bagging_temperature': 0.5500143894361873}. Best is trial 51 with value: -14669.917765381373.\n",
            "[I 2024-12-09 17:39:08,556] Trial 71 finished with value: -14880.74893263439 and parameters: {'iterations': 878, 'depth': 6, 'learning_rate': 0.07118078108823886, 'l2_leaf_reg': 6.6981224385508655, 'border_count': 67, 'random_strength': 0.3923396394252394, 'bagging_temperature': 0.4682364606307505}. Best is trial 51 with value: -14669.917765381373.\n",
            "[I 2024-12-09 17:39:15,192] Trial 72 finished with value: -14918.246200142898 and parameters: {'iterations': 909, 'depth': 5, 'learning_rate': 0.07282721267644426, 'l2_leaf_reg': 6.924942997851122, 'border_count': 81, 'random_strength': 0.3146690416361742, 'bagging_temperature': 0.4907306235294155}. Best is trial 51 with value: -14669.917765381373.\n",
            "[I 2024-12-09 17:40:55,756] Trial 73 finished with value: -16032.525558846522 and parameters: {'iterations': 874, 'depth': 11, 'learning_rate': 0.08072164972229738, 'l2_leaf_reg': 7.620152452478119, 'border_count': 52, 'random_strength': 0.3689439942699376, 'bagging_temperature': 0.44319766742433464}. Best is trial 51 with value: -14669.917765381373.\n",
            "[I 2024-12-09 17:41:04,914] Trial 74 finished with value: -14944.885284351793 and parameters: {'iterations': 926, 'depth': 6, 'learning_rate': 0.06442773164540333, 'l2_leaf_reg': 7.917173996391309, 'border_count': 61, 'random_strength': 0.455683622564903, 'bagging_temperature': 0.6099558354505014}. Best is trial 51 with value: -14669.917765381373.\n",
            "[I 2024-12-09 17:41:18,451] Trial 75 finished with value: -14772.577933922625 and parameters: {'iterations': 943, 'depth': 7, 'learning_rate': 0.055366084186423074, 'l2_leaf_reg': 5.736354428022612, 'border_count': 74, 'random_strength': 0.56540207837712, 'bagging_temperature': 0.37517642764171033}. Best is trial 51 with value: -14669.917765381373.\n",
            "[I 2024-12-09 17:41:32,113] Trial 76 finished with value: -14858.523195390142 and parameters: {'iterations': 951, 'depth': 7, 'learning_rate': 0.056184835576550664, 'l2_leaf_reg': 5.680576333169286, 'border_count': 76, 'random_strength': 0.5616532089686274, 'bagging_temperature': 0.3620369204886667}. Best is trial 51 with value: -14669.917765381373.\n",
            "[I 2024-12-09 17:41:52,205] Trial 77 finished with value: -15016.541799950757 and parameters: {'iterations': 899, 'depth': 8, 'learning_rate': 0.06159264052943421, 'l2_leaf_reg': 4.448549294854774, 'border_count': 100, 'random_strength': 0.6190495415618005, 'bagging_temperature': 0.2243939407355501}. Best is trial 51 with value: -14669.917765381373.\n",
            "[I 2024-12-09 17:41:57,813] Trial 78 finished with value: -14928.305772151822 and parameters: {'iterations': 754, 'depth': 5, 'learning_rate': 0.053806263469627524, 'l2_leaf_reg': 6.162652227489678, 'border_count': 117, 'random_strength': 0.534880509538746, 'bagging_temperature': 0.28400375560995006}. Best is trial 51 with value: -14669.917765381373.\n",
            "[I 2024-12-09 17:42:10,990] Trial 79 finished with value: -15106.532757298195 and parameters: {'iterations': 973, 'depth': 7, 'learning_rate': 0.036589614559331275, 'l2_leaf_reg': 8.450667874388209, 'border_count': 39, 'random_strength': 0.7041914207423451, 'bagging_temperature': 0.9435733534844142}. Best is trial 51 with value: -14669.917765381373.\n",
            "[I 2024-12-09 17:42:21,194] Trial 80 finished with value: -14790.346760345245 and parameters: {'iterations': 940, 'depth': 6, 'learning_rate': 0.04240962549951937, 'l2_leaf_reg': 5.166289577856405, 'border_count': 217, 'random_strength': 0.9882174826709088, 'bagging_temperature': 0.369438685748409}. Best is trial 51 with value: -14669.917765381373.\n",
            "[I 2024-12-09 17:42:31,462] Trial 81 finished with value: -14930.067251999153 and parameters: {'iterations': 948, 'depth': 6, 'learning_rate': 0.032963403429864424, 'l2_leaf_reg': 5.099099664421225, 'border_count': 210, 'random_strength': 0.935344703131015, 'bagging_temperature': 0.38696742459867817}. Best is trial 51 with value: -14669.917765381373.\n",
            "[I 2024-12-09 17:42:40,275] Trial 82 finished with value: -14973.958703356475 and parameters: {'iterations': 857, 'depth': 6, 'learning_rate': 0.04142429929936729, 'l2_leaf_reg': 5.712605442958192, 'border_count': 152, 'random_strength': 0.8644711618909179, 'bagging_temperature': 0.34806599953439343}. Best is trial 51 with value: -14669.917765381373.\n",
            "[I 2024-12-09 17:42:55,140] Trial 83 finished with value: -14932.618601467073 and parameters: {'iterations': 935, 'depth': 7, 'learning_rate': 0.047376169891798145, 'l2_leaf_reg': 4.783110012130385, 'border_count': 225, 'random_strength': 0.9574223800756724, 'bagging_temperature': 0.8395144539348254}. Best is trial 51 with value: -14669.917765381373.\n",
            "[I 2024-12-09 17:43:05,942] Trial 84 finished with value: -14763.471306511714 and parameters: {'iterations': 977, 'depth': 6, 'learning_rate': 0.03896891484143029, 'l2_leaf_reg': 3.6080862912678633, 'border_count': 239, 'random_strength': 0.9986670164706212, 'bagging_temperature': 0.3019725302672339}. Best is trial 51 with value: -14669.917765381373.\n",
            "[I 2024-12-09 17:43:33,370] Trial 85 finished with value: -15427.000591461594 and parameters: {'iterations': 977, 'depth': 8, 'learning_rate': 0.04366511411734574, 'l2_leaf_reg': 2.7151496539667606, 'border_count': 239, 'random_strength': 0.9766182725033424, 'bagging_temperature': 0.3022528028044085}. Best is trial 51 with value: -14669.917765381373.\n",
            "[I 2024-12-09 17:43:40,566] Trial 86 finished with value: -15019.4418571221 and parameters: {'iterations': 924, 'depth': 5, 'learning_rate': 0.032410636739283884, 'l2_leaf_reg': 3.7713935987350165, 'border_count': 193, 'random_strength': 0.9901511632664663, 'bagging_temperature': 0.41161248699196135}. Best is trial 51 with value: -14669.917765381373.\n",
            "[I 2024-12-09 17:43:51,368] Trial 87 finished with value: -15280.290272544331 and parameters: {'iterations': 980, 'depth': 6, 'learning_rate': 0.02946300580097685, 'l2_leaf_reg': 9.062583947205836, 'border_count': 237, 'random_strength': 0.9222341500103501, 'bagging_temperature': 0.16669324469710145}. Best is trial 51 with value: -14669.917765381373.\n",
            "[I 2024-12-09 17:44:35,211] Trial 88 finished with value: -15326.969140586652 and parameters: {'iterations': 828, 'depth': 9, 'learning_rate': 0.025282775073600088, 'l2_leaf_reg': 5.114404070574807, 'border_count': 218, 'random_strength': 0.8818011865915948, 'bagging_temperature': 0.3739944573826699}. Best is trial 51 with value: -14669.917765381373.\n",
            "[I 2024-12-09 17:44:45,915] Trial 89 finished with value: -14788.94211649041 and parameters: {'iterations': 1000, 'depth': 6, 'learning_rate': 0.038066400403969566, 'l2_leaf_reg': 4.309495216501289, 'border_count': 196, 'random_strength': 0.9972413389914211, 'bagging_temperature': 0.3230488502795921}. Best is trial 51 with value: -14669.917765381373.\n",
            "[I 2024-12-09 17:44:53,805] Trial 90 finished with value: -14793.497777942268 and parameters: {'iterations': 998, 'depth': 5, 'learning_rate': 0.038129993661091634, 'l2_leaf_reg': 3.6576160444265113, 'border_count': 209, 'random_strength': 0.9927895365046092, 'bagging_temperature': 0.34173704567174945}. Best is trial 51 with value: -14669.917765381373.\n",
            "[I 2024-12-09 17:45:01,478] Trial 91 finished with value: -14649.982110340285 and parameters: {'iterations': 988, 'depth': 5, 'learning_rate': 0.03819276913900992, 'l2_leaf_reg': 2.7485422884414747, 'border_count': 205, 'random_strength': 0.9603262629709763, 'bagging_temperature': 0.3340030150358452}. Best is trial 91 with value: -14649.982110340285.\n",
            "[I 2024-12-09 17:45:09,253] Trial 92 finished with value: -14691.838495125883 and parameters: {'iterations': 997, 'depth': 5, 'learning_rate': 0.03803397413860749, 'l2_leaf_reg': 3.0269771043356224, 'border_count': 201, 'random_strength': 0.990503363856987, 'bagging_temperature': 0.2515058952723312}. Best is trial 91 with value: -14649.982110340285.\n",
            "[I 2024-12-09 17:45:14,857] Trial 93 finished with value: -14837.779398548602 and parameters: {'iterations': 992, 'depth': 4, 'learning_rate': 0.03980917246906174, 'l2_leaf_reg': 3.135421852666975, 'border_count': 202, 'random_strength': 0.9909538627158304, 'bagging_temperature': 0.33450968380951324}. Best is trial 91 with value: -14649.982110340285.\n",
            "[I 2024-12-09 17:45:22,279] Trial 94 finished with value: -14811.636592353345 and parameters: {'iterations': 965, 'depth': 5, 'learning_rate': 0.038762923274845436, 'l2_leaf_reg': 2.520215264986865, 'border_count': 172, 'random_strength': 0.9582462295313046, 'bagging_temperature': 0.2426732966223053}. Best is trial 91 with value: -14649.982110340285.\n",
            "[I 2024-12-09 17:45:30,062] Trial 95 finished with value: -14698.506927550643 and parameters: {'iterations': 1000, 'depth': 5, 'learning_rate': 0.0351898611469853, 'l2_leaf_reg': 3.489818614213567, 'border_count': 211, 'random_strength': 0.9148997751303682, 'bagging_temperature': 0.20002381972150451}. Best is trial 91 with value: -14649.982110340285.\n",
            "[I 2024-12-09 17:45:37,986] Trial 96 finished with value: -14859.9729494862 and parameters: {'iterations': 999, 'depth': 5, 'learning_rate': 0.033906472589574924, 'l2_leaf_reg': 3.417928937400341, 'border_count': 213, 'random_strength': 0.9997040152086767, 'bagging_temperature': 0.1969456529846501}. Best is trial 91 with value: -14649.982110340285.\n",
            "[I 2024-12-09 17:45:43,790] Trial 97 finished with value: -14816.766704644997 and parameters: {'iterations': 976, 'depth': 4, 'learning_rate': 0.03696810641110067, 'l2_leaf_reg': 2.1272989064624013, 'border_count': 233, 'random_strength': 0.9050586580222815, 'bagging_temperature': 0.2561254420487016}. Best is trial 91 with value: -14649.982110340285.\n",
            "[I 2024-12-09 17:45:51,195] Trial 98 finished with value: -14984.475828564557 and parameters: {'iterations': 952, 'depth': 5, 'learning_rate': 0.02638573379827456, 'l2_leaf_reg': 3.012434023262874, 'border_count': 201, 'random_strength': 0.9724475554128993, 'bagging_temperature': 0.3149577911884601}. Best is trial 91 with value: -14649.982110340285.\n",
            "[I 2024-12-09 17:45:58,797] Trial 99 finished with value: -14860.061400390905 and parameters: {'iterations': 1000, 'depth': 5, 'learning_rate': 0.031089984448136182, 'l2_leaf_reg': 3.7726384538249365, 'border_count': 181, 'random_strength': 0.9361741788375486, 'bagging_temperature': 0.2174722441557824}. Best is trial 91 with value: -14649.982110340285.\n",
            "[I 2024-12-09 17:46:04,545] Trial 100 finished with value: -14999.336742808891 and parameters: {'iterations': 941, 'depth': 4, 'learning_rate': 0.03581298777230891, 'l2_leaf_reg': 4.202443870577341, 'border_count': 246, 'random_strength': 0.9514632146784198, 'bagging_temperature': 0.17552788734035393}. Best is trial 91 with value: -14649.982110340285.\n",
            "[I 2024-12-09 17:46:14,961] Trial 101 finished with value: -14847.87295842655 and parameters: {'iterations': 970, 'depth': 6, 'learning_rate': 0.04259488856240038, 'l2_leaf_reg': 3.4811510662697964, 'border_count': 203, 'random_strength': 0.9075160544678714, 'bagging_temperature': 0.2938135901923751}. Best is trial 91 with value: -14649.982110340285.\n",
            "[I 2024-12-09 17:46:22,409] Trial 102 finished with value: -14591.398800272149 and parameters: {'iterations': 952, 'depth': 5, 'learning_rate': 0.03903002774992069, 'l2_leaf_reg': 2.2708258476192342, 'border_count': 218, 'random_strength': 0.9743097102553155, 'bagging_temperature': 0.12199943317603956}. Best is trial 102 with value: -14591.398800272149.\n",
            "[I 2024-12-09 17:46:30,261] Trial 103 finished with value: -14751.303450419486 and parameters: {'iterations': 981, 'depth': 5, 'learning_rate': 0.03892148432356381, 'l2_leaf_reg': 2.488647647328831, 'border_count': 219, 'random_strength': 0.8237550325690373, 'bagging_temperature': 0.13488725319537911}. Best is trial 102 with value: -14591.398800272149.\n",
            "[I 2024-12-09 17:46:37,525] Trial 104 finished with value: -14659.799926127138 and parameters: {'iterations': 910, 'depth': 5, 'learning_rate': 0.043814638210377475, 'l2_leaf_reg': 1.4619400992490803, 'border_count': 220, 'random_strength': 0.8282557702871518, 'bagging_temperature': 0.08769035781488796}. Best is trial 102 with value: -14591.398800272149.\n",
            "[I 2024-12-09 17:46:45,031] Trial 105 finished with value: -14853.89932259288 and parameters: {'iterations': 918, 'depth': 5, 'learning_rate': 0.03452725423257455, 'l2_leaf_reg': 0.7884724585430942, 'border_count': 229, 'random_strength': 0.8308727503518373, 'bagging_temperature': 0.08780087838322814}. Best is trial 102 with value: -14591.398800272149.\n",
            "[I 2024-12-09 17:46:50,424] Trial 106 finished with value: -14748.4471581277 and parameters: {'iterations': 960, 'depth': 4, 'learning_rate': 0.03979499075400996, 'l2_leaf_reg': 1.513954307528659, 'border_count': 196, 'random_strength': 0.7833735019701249, 'bagging_temperature': 0.1281235012736508}. Best is trial 102 with value: -14591.398800272149.\n",
            "[I 2024-12-09 17:46:55,858] Trial 107 finished with value: -14781.485151451474 and parameters: {'iterations': 912, 'depth': 4, 'learning_rate': 0.049512482912637434, 'l2_leaf_reg': 1.5491851551907763, 'border_count': 216, 'random_strength': 0.788374214487694, 'bagging_temperature': 0.12928809881485528}. Best is trial 102 with value: -14591.398800272149.\n",
            "[I 2024-12-09 17:47:01,560] Trial 108 finished with value: -14663.529766035386 and parameters: {'iterations': 963, 'depth': 4, 'learning_rate': 0.04463428739620113, 'l2_leaf_reg': 2.0910780299146103, 'border_count': 222, 'random_strength': 0.8406391837524105, 'bagging_temperature': 0.08887559730470232}. Best is trial 102 with value: -14591.398800272149.\n",
            "[I 2024-12-09 17:47:07,309] Trial 109 finished with value: -15034.088740422896 and parameters: {'iterations': 962, 'depth': 4, 'learning_rate': 0.027853951247880544, 'l2_leaf_reg': 1.8294151900570805, 'border_count': 223, 'random_strength': 0.8237409103038199, 'bagging_temperature': 0.07018766210765566}. Best is trial 102 with value: -14591.398800272149.\n",
            "[I 2024-12-09 17:47:12,958] Trial 110 finished with value: -14689.445482291554 and parameters: {'iterations': 980, 'depth': 4, 'learning_rate': 0.04469520181851076, 'l2_leaf_reg': 2.2748745648848003, 'border_count': 207, 'random_strength': 0.8472574000409192, 'bagging_temperature': 0.04114792749683245}. Best is trial 102 with value: -14591.398800272149.\n",
            "[I 2024-12-09 17:47:18,634] Trial 111 finished with value: -14819.127621359221 and parameters: {'iterations': 979, 'depth': 4, 'learning_rate': 0.040111736096299665, 'l2_leaf_reg': 2.404375411784152, 'border_count': 207, 'random_strength': 0.8449206400896924, 'bagging_temperature': 0.0122504775882364}. Best is trial 102 with value: -14591.398800272149.\n",
            "[I 2024-12-09 17:47:24,391] Trial 112 finished with value: -14777.233765200868 and parameters: {'iterations': 962, 'depth': 4, 'learning_rate': 0.04523158835606623, 'l2_leaf_reg': 1.089106515074452, 'border_count': 223, 'random_strength': 0.8829422782118874, 'bagging_temperature': 0.1178568863972859}. Best is trial 102 with value: -14591.398800272149.\n",
            "[I 2024-12-09 17:47:29,485] Trial 113 finished with value: -14774.052781468268 and parameters: {'iterations': 898, 'depth': 4, 'learning_rate': 0.044069881631603, 'l2_leaf_reg': 2.185756112155739, 'border_count': 197, 'random_strength': 0.7755730216532574, 'bagging_temperature': 0.031590513318362684}. Best is trial 102 with value: -14591.398800272149.\n",
            "[I 2024-12-09 17:47:31,333] Trial 114 finished with value: -15936.741265486664 and parameters: {'iterations': 243, 'depth': 4, 'learning_rate': 0.047518206884346915, 'l2_leaf_reg': 1.6143176359967863, 'border_count': 246, 'random_strength': 0.8643694587129589, 'bagging_temperature': 0.0893657165826452}. Best is trial 102 with value: -14591.398800272149.\n",
            "[I 2024-12-09 17:47:36,964] Trial 115 finished with value: -14940.751818959645 and parameters: {'iterations': 933, 'depth': 4, 'learning_rate': 0.022704040193502834, 'l2_leaf_reg': 0.07636514698476149, 'border_count': 228, 'random_strength': 0.8060506943145522, 'bagging_temperature': 0.13978574071641003}. Best is trial 102 with value: -14591.398800272149.\n",
            "[I 2024-12-09 17:47:44,558] Trial 116 finished with value: -14830.993950143853 and parameters: {'iterations': 986, 'depth': 5, 'learning_rate': 0.03904488621171978, 'l2_leaf_reg': 2.6486593646106535, 'border_count': 184, 'random_strength': 0.9219915906442631, 'bagging_temperature': 0.042862721757998094}. Best is trial 102 with value: -14591.398800272149.\n",
            "[I 2024-12-09 17:47:50,026] Trial 117 finished with value: -14933.399986336188 and parameters: {'iterations': 963, 'depth': 4, 'learning_rate': 0.035672296313638316, 'l2_leaf_reg': 2.9313602226071707, 'border_count': 205, 'random_strength': 0.8410800597588755, 'bagging_temperature': 0.18188911893463675}. Best is trial 102 with value: -14591.398800272149.\n",
            "[I 2024-12-09 17:47:57,361] Trial 118 finished with value: -14808.57542666457 and parameters: {'iterations': 912, 'depth': 5, 'learning_rate': 0.05165509111785546, 'l2_leaf_reg': 1.8282398645777378, 'border_count': 220, 'random_strength': 0.7557873448563657, 'bagging_temperature': 0.16125738377360294}. Best is trial 102 with value: -14591.398800272149.\n",
            "[I 2024-12-09 17:48:05,062] Trial 119 finished with value: -14861.583695898027 and parameters: {'iterations': 952, 'depth': 5, 'learning_rate': 0.04407732359856851, 'l2_leaf_reg': 1.1715183385597756, 'border_count': 232, 'random_strength': 0.88925343577954, 'bagging_temperature': 0.10196088342819688}. Best is trial 102 with value: -14591.398800272149.\n",
            "[I 2024-12-09 17:48:10,751] Trial 120 finished with value: -14798.302677514332 and parameters: {'iterations': 977, 'depth': 4, 'learning_rate': 0.04800507787763784, 'l2_leaf_reg': 2.3432031622450498, 'border_count': 212, 'random_strength': 0.7341667898022799, 'bagging_temperature': 0.07428419557917554}. Best is trial 102 with value: -14591.398800272149.\n",
            "[I 2024-12-09 17:48:18,196] Trial 121 finished with value: -14770.525284506668 and parameters: {'iterations': 944, 'depth': 5, 'learning_rate': 0.0408974223757207, 'l2_leaf_reg': 1.9122656924858465, 'border_count': 214, 'random_strength': 0.9207127128503889, 'bagging_temperature': 0.13268617044119851}. Best is trial 102 with value: -14591.398800272149.\n",
            "[I 2024-12-09 17:48:19,885] Trial 122 finished with value: -16570.144893378856 and parameters: {'iterations': 170, 'depth': 5, 'learning_rate': 0.041052700608194256, 'l2_leaf_reg': 1.2631047855118647, 'border_count': 213, 'random_strength': 0.854954917314099, 'bagging_temperature': 0.12229068039395453}. Best is trial 102 with value: -14591.398800272149.\n",
            "[I 2024-12-09 17:48:27,415] Trial 123 finished with value: -14713.017957120781 and parameters: {'iterations': 937, 'depth': 5, 'learning_rate': 0.04601359512590247, 'l2_leaf_reg': 1.8540318927785695, 'border_count': 219, 'random_strength': 0.9230286427067872, 'bagging_temperature': 0.20092189581822098}. Best is trial 102 with value: -14591.398800272149.\n",
            "[I 2024-12-09 17:48:32,400] Trial 124 finished with value: -14820.87605274589 and parameters: {'iterations': 628, 'depth': 5, 'learning_rate': 0.04620497743387043, 'l2_leaf_reg': 2.1892717927733347, 'border_count': 197, 'random_strength': 0.8169448975968959, 'bagging_temperature': 0.18888704109546062}. Best is trial 102 with value: -14591.398800272149.\n",
            "[I 2024-12-09 17:48:40,115] Trial 125 finished with value: -14870.364923250658 and parameters: {'iterations': 932, 'depth': 5, 'learning_rate': 0.030954195461866042, 'l2_leaf_reg': 2.89130295481614, 'border_count': 244, 'random_strength': 0.8965888197252402, 'bagging_temperature': 0.20636583474696524}. Best is trial 102 with value: -14591.398800272149.\n",
            "[I 2024-12-09 17:48:47,202] Trial 126 finished with value: -14619.937652447197 and parameters: {'iterations': 892, 'depth': 5, 'learning_rate': 0.04354925006356195, 'l2_leaf_reg': 1.6970260013398166, 'border_count': 221, 'random_strength': 0.9440795700126019, 'bagging_temperature': 0.0554069785092305}. Best is trial 102 with value: -14591.398800272149.\n",
            "[I 2024-12-09 17:48:52,452] Trial 127 finished with value: -14746.436582323633 and parameters: {'iterations': 867, 'depth': 4, 'learning_rate': 0.04327027745978674, 'l2_leaf_reg': 1.75828567345469, 'border_count': 220, 'random_strength': 0.9632140079336812, 'bagging_temperature': 0.02589672064984659}. Best is trial 102 with value: -14591.398800272149.\n",
            "[I 2024-12-09 17:48:57,663] Trial 128 finished with value: -14771.985428061453 and parameters: {'iterations': 894, 'depth': 4, 'learning_rate': 0.050734606913098744, 'l2_leaf_reg': 1.690314397303805, 'border_count': 220, 'random_strength': 0.9707713867881743, 'bagging_temperature': 0.05581033812217449}. Best is trial 102 with value: -14591.398800272149.\n",
            "[I 2024-12-09 17:50:07,337] Trial 129 finished with value: -15944.164676824526 and parameters: {'iterations': 918, 'depth': 10, 'learning_rate': 0.04371786251217917, 'l2_leaf_reg': 1.410392484053652, 'border_count': 222, 'random_strength': 0.9438810287985345, 'bagging_temperature': 0.01750706175583181}. Best is trial 102 with value: -14591.398800272149.\n",
            "[I 2024-12-09 17:50:12,354] Trial 130 finished with value: -14878.652369000472 and parameters: {'iterations': 871, 'depth': 4, 'learning_rate': 0.03486068261667019, 'l2_leaf_reg': 1.9763892276123407, 'border_count': 192, 'random_strength': 0.869370444981862, 'bagging_temperature': 0.0902329280473366}. Best is trial 102 with value: -14591.398800272149.\n",
            "[I 2024-12-09 17:50:17,352] Trial 131 finished with value: -14786.161580079706 and parameters: {'iterations': 865, 'depth': 4, 'learning_rate': 0.04249781683685599, 'l2_leaf_reg': 0.7785109842873787, 'border_count': 208, 'random_strength': 0.9359350086038152, 'bagging_temperature': 0.04461306022341288}. Best is trial 102 with value: -14591.398800272149.\n",
            "[I 2024-12-09 17:50:24,644] Trial 132 finished with value: -14889.138062326752 and parameters: {'iterations': 891, 'depth': 5, 'learning_rate': 0.04556444372026039, 'l2_leaf_reg': 2.2750296698599666, 'border_count': 232, 'random_strength': 0.9111688682406373, 'bagging_temperature': 0.1520503696288458}. Best is trial 102 with value: -14591.398800272149.\n",
            "[I 2024-12-09 17:50:32,274] Trial 133 finished with value: -14838.29091103109 and parameters: {'iterations': 955, 'depth': 5, 'learning_rate': 0.03673942605229715, 'l2_leaf_reg': 0.9618482823915593, 'border_count': 227, 'random_strength': 0.9636614729888138, 'bagging_temperature': 0.10184565873629564}. Best is trial 102 with value: -14591.398800272149.\n",
            "[I 2024-12-09 17:50:39,154] Trial 134 finished with value: -14750.931096561351 and parameters: {'iterations': 848, 'depth': 5, 'learning_rate': 0.04785939564720582, 'l2_leaf_reg': 2.5345269773636585, 'border_count': 218, 'random_strength': 0.8868423869995072, 'bagging_temperature': 0.06934192154334477}. Best is trial 102 with value: -14591.398800272149.\n",
            "[I 2024-12-09 17:50:45,833] Trial 135 finished with value: -14809.917281018206 and parameters: {'iterations': 847, 'depth': 5, 'learning_rate': 0.04823962718869575, 'l2_leaf_reg': 2.553982348214917, 'border_count': 218, 'random_strength': 0.7810360280232246, 'bagging_temperature': 0.07010908024245777}. Best is trial 102 with value: -14591.398800272149.\n",
            "[I 2024-12-09 17:50:49,609] Trial 136 finished with value: -15074.384804446905 and parameters: {'iterations': 442, 'depth': 5, 'learning_rate': 0.05298310930573203, 'l2_leaf_reg': 1.40559363162183, 'border_count': 206, 'random_strength': 0.8787783414610703, 'bagging_temperature': 0.019922606596268058}. Best is trial 102 with value: -14591.398800272149.\n",
            "[I 2024-12-09 17:50:54,911] Trial 137 finished with value: -14762.29628285817 and parameters: {'iterations': 915, 'depth': 4, 'learning_rate': 0.040355276740454436, 'l2_leaf_reg': 2.404442679699135, 'border_count': 210, 'random_strength': 0.8402507250882251, 'bagging_temperature': 4.2412743016514987e-05}. Best is trial 102 with value: -14591.398800272149.\n",
            "[I 2024-12-09 17:51:00,262] Trial 138 finished with value: -14707.871940403149 and parameters: {'iterations': 939, 'depth': 4, 'learning_rate': 0.048961864593632956, 'l2_leaf_reg': 2.075700645611603, 'border_count': 200, 'random_strength': 0.9363602826233081, 'bagging_temperature': 0.047749361047985994}. Best is trial 102 with value: -14591.398800272149.\n",
            "[I 2024-12-09 17:51:03,479] Trial 139 finished with value: -15049.246966675939 and parameters: {'iterations': 523, 'depth': 4, 'learning_rate': 0.04950284043771841, 'l2_leaf_reg': 1.9964382772730114, 'border_count': 188, 'random_strength': 0.9460725724166689, 'bagging_temperature': 0.0630089283146184}. Best is trial 102 with value: -14591.398800272149.\n",
            "[I 2024-12-09 17:51:08,169] Trial 140 finished with value: -14681.62462397767 and parameters: {'iterations': 811, 'depth': 4, 'learning_rate': 0.04649663649695301, 'l2_leaf_reg': 1.715325397622811, 'border_count': 201, 'random_strength': 0.924774507134604, 'bagging_temperature': 0.03603270942220137}. Best is trial 102 with value: -14591.398800272149.\n",
            "[I 2024-12-09 17:51:12,819] Trial 141 finished with value: -14732.578341037224 and parameters: {'iterations': 811, 'depth': 4, 'learning_rate': 0.046331244655000846, 'l2_leaf_reg': 1.8108278682671053, 'border_count': 203, 'random_strength': 0.9246697264848406, 'bagging_temperature': 0.02649450939702259}. Best is trial 102 with value: -14591.398800272149.\n",
            "[I 2024-12-09 17:51:17,353] Trial 142 finished with value: -14869.8156482366 and parameters: {'iterations': 777, 'depth': 4, 'learning_rate': 0.04604560257720492, 'l2_leaf_reg': 1.7689205494669349, 'border_count': 180, 'random_strength': 0.9243006540236514, 'bagging_temperature': 0.03641719663402142}. Best is trial 102 with value: -14591.398800272149.\n",
            "[I 2024-12-09 17:51:21,957] Trial 143 finished with value: -14673.166153161515 and parameters: {'iterations': 800, 'depth': 4, 'learning_rate': 0.04335858252316232, 'l2_leaf_reg': 2.044542624766162, 'border_count': 197, 'random_strength': 0.959627384235688, 'bagging_temperature': 0.028877925392725753}. Best is trial 102 with value: -14591.398800272149.\n",
            "[I 2024-12-09 17:51:26,647] Trial 144 finished with value: -14853.545606300719 and parameters: {'iterations': 815, 'depth': 4, 'learning_rate': 0.04348663112143303, 'l2_leaf_reg': 2.1149142027353993, 'border_count': 204, 'random_strength': 0.9573352193376872, 'bagging_temperature': 0.035045730432849906}. Best is trial 102 with value: -14591.398800272149.\n",
            "[I 2024-12-09 17:51:31,233] Trial 145 finished with value: -14800.154988726503 and parameters: {'iterations': 796, 'depth': 4, 'learning_rate': 0.05184099499537321, 'l2_leaf_reg': 1.7210856155323275, 'border_count': 202, 'random_strength': 0.977089067901847, 'bagging_temperature': 0.022772171594984732}. Best is trial 102 with value: -14591.398800272149.\n",
            "[I 2024-12-09 17:51:36,027] Trial 146 finished with value: -14766.563434700578 and parameters: {'iterations': 834, 'depth': 4, 'learning_rate': 0.04962328845719264, 'l2_leaf_reg': 2.815810457295746, 'border_count': 199, 'random_strength': 0.933478876442448, 'bagging_temperature': 0.05260092424414681}. Best is trial 102 with value: -14591.398800272149.\n",
            "[I 2024-12-09 17:51:40,479] Trial 147 finished with value: -14951.590699956902 and parameters: {'iterations': 759, 'depth': 4, 'learning_rate': 0.04607094069176575, 'l2_leaf_reg': 1.9962343175553987, 'border_count': 192, 'random_strength': 0.9064411586823685, 'bagging_temperature': 0.08343116346374203}. Best is trial 102 with value: -14591.398800272149.\n",
            "[I 2024-12-09 17:51:42,570] Trial 148 finished with value: -15705.630538876165 and parameters: {'iterations': 302, 'depth': 4, 'learning_rate': 0.04210409934166735, 'l2_leaf_reg': 0.41021859038380115, 'border_count': 210, 'random_strength': 0.9672671547413643, 'bagging_temperature': 0.006589646541713266}. Best is trial 102 with value: -14591.398800272149.\n",
            "[I 2024-12-09 17:51:47,462] Trial 149 finished with value: -14801.285317222422 and parameters: {'iterations': 810, 'depth': 4, 'learning_rate': 0.04412741399192569, 'l2_leaf_reg': 3.3101009408356292, 'border_count': 226, 'random_strength': 0.9554571754810464, 'bagging_temperature': 0.10612842434624933}. Best is trial 102 with value: -14591.398800272149.\n",
            "[I 2024-12-09 17:51:51,794] Trial 150 finished with value: -14992.174081686837 and parameters: {'iterations': 720, 'depth': 4, 'learning_rate': 0.037320563989863345, 'l2_leaf_reg': 1.412263317356156, 'border_count': 213, 'random_strength': 0.904484757042598, 'bagging_temperature': 0.053250806186260075}. Best is trial 102 with value: -14591.398800272149.\n",
            "[I 2024-12-09 17:51:56,935] Trial 151 finished with value: -14707.30017850827 and parameters: {'iterations': 885, 'depth': 4, 'learning_rate': 0.041909163570722406, 'l2_leaf_reg': 1.277445875756003, 'border_count': 196, 'random_strength': 0.9331785744868932, 'bagging_temperature': 0.02569573571545001}. Best is trial 102 with value: -14591.398800272149.\n",
            "[I 2024-12-09 17:52:01,886] Trial 152 finished with value: -14700.691246130245 and parameters: {'iterations': 880, 'depth': 4, 'learning_rate': 0.046777591888022954, 'l2_leaf_reg': 1.0006265498886568, 'border_count': 174, 'random_strength': 0.946499193451476, 'bagging_temperature': 0.03519627910908393}. Best is trial 102 with value: -14591.398800272149.\n",
            "[I 2024-12-09 17:52:06,958] Trial 153 finished with value: -14738.637676713373 and parameters: {'iterations': 886, 'depth': 4, 'learning_rate': 0.04764145346759733, 'l2_leaf_reg': 1.2678439859447526, 'border_count': 193, 'random_strength': 0.9284679126784599, 'bagging_temperature': 0.04695544079564423}. Best is trial 102 with value: -14591.398800272149.\n",
            "[I 2024-12-09 17:52:12,087] Trial 154 finished with value: -14812.78262899638 and parameters: {'iterations': 904, 'depth': 4, 'learning_rate': 0.05432997143185043, 'l2_leaf_reg': 0.5476463703392418, 'border_count': 171, 'random_strength': 0.9411695614265625, 'bagging_temperature': 0.001448097315429428}. Best is trial 102 with value: -14591.398800272149.\n",
            "[I 2024-12-09 17:52:16,742] Trial 155 finished with value: -14917.61164570347 and parameters: {'iterations': 823, 'depth': 4, 'learning_rate': 0.04520720549682207, 'l2_leaf_reg': 2.179849089066503, 'border_count': 177, 'random_strength': 0.9772502771604048, 'bagging_temperature': 0.07222228119895738}. Best is trial 102 with value: -14591.398800272149.\n",
            "[I 2024-12-09 17:52:24,008] Trial 156 finished with value: -14676.59206293349 and parameters: {'iterations': 925, 'depth': 5, 'learning_rate': 0.041310100261482095, 'l2_leaf_reg': 1.0537568529062389, 'border_count': 201, 'random_strength': 0.9147627923556655, 'bagging_temperature': 0.03203797434192042}. Best is trial 102 with value: -14591.398800272149.\n",
            "[I 2024-12-09 17:52:31,136] Trial 157 finished with value: -14730.04371935772 and parameters: {'iterations': 932, 'depth': 5, 'learning_rate': 0.0412626119620819, 'l2_leaf_reg': 1.5623116431137185, 'border_count': 189, 'random_strength': 0.8994436361362839, 'bagging_temperature': 0.10072163633310652}. Best is trial 102 with value: -14591.398800272149.\n",
            "[I 2024-12-09 17:52:38,323] Trial 158 finished with value: -14745.580366333263 and parameters: {'iterations': 941, 'depth': 5, 'learning_rate': 0.03801050064765896, 'l2_leaf_reg': 0.9715201226879284, 'border_count': 162, 'random_strength': 0.8651303616558857, 'bagging_temperature': 0.08241037602909318}. Best is trial 102 with value: -14591.398800272149.\n",
            "[I 2024-12-09 17:52:45,025] Trial 159 finished with value: -14869.571862903442 and parameters: {'iterations': 886, 'depth': 5, 'learning_rate': 0.03382161806419139, 'l2_leaf_reg': 2.707373375109305, 'border_count': 145, 'random_strength': 0.9415308031798509, 'bagging_temperature': 0.04122961985028678}. Best is trial 102 with value: -14591.398800272149.\n",
            "[I 2024-12-09 17:52:52,115] Trial 160 finished with value: -14744.127161938188 and parameters: {'iterations': 907, 'depth': 5, 'learning_rate': 0.04163070297599296, 'l2_leaf_reg': 1.0143535650536117, 'border_count': 199, 'random_strength': 0.8836191007233171, 'bagging_temperature': 0.2584590835735175}. Best is trial 102 with value: -14591.398800272149.\n",
            "[I 2024-12-09 17:52:59,329] Trial 161 finished with value: -14848.605486967583 and parameters: {'iterations': 936, 'depth': 5, 'learning_rate': 0.040743435658928864, 'l2_leaf_reg': 1.5731314080189813, 'border_count': 184, 'random_strength': 0.9023645005691591, 'bagging_temperature': 0.1024048890797766}. Best is trial 102 with value: -14591.398800272149.\n",
            "[I 2024-12-09 17:53:06,487] Trial 162 finished with value: -14843.016946724569 and parameters: {'iterations': 925, 'depth': 5, 'learning_rate': 0.04459311034798165, 'l2_leaf_reg': 1.2798673360233308, 'border_count': 193, 'random_strength': 0.913620063878298, 'bagging_temperature': 0.06132203463696213}. Best is trial 102 with value: -14591.398800272149.\n",
            "[I 2024-12-09 17:53:14,120] Trial 163 finished with value: -14865.66727295747 and parameters: {'iterations': 984, 'depth': 5, 'learning_rate': 0.05015467313654229, 'l2_leaf_reg': 3.1227016261311076, 'border_count': 188, 'random_strength': 0.8540569161308494, 'bagging_temperature': 0.11597970081450151}. Best is trial 102 with value: -14591.398800272149.\n",
            "[I 2024-12-09 17:53:21,549] Trial 164 finished with value: -14728.293643508156 and parameters: {'iterations': 955, 'depth': 5, 'learning_rate': 0.04188361482219822, 'l2_leaf_reg': 2.0473027321646375, 'border_count': 208, 'random_strength': 0.9772823191032034, 'bagging_temperature': 0.08899271649918213}. Best is trial 102 with value: -14591.398800272149.\n",
            "[I 2024-12-09 17:53:29,127] Trial 165 finished with value: -14669.14663396104 and parameters: {'iterations': 963, 'depth': 5, 'learning_rate': 0.042930714035176204, 'l2_leaf_reg': 2.051715666823341, 'border_count': 206, 'random_strength': 0.9819793244387995, 'bagging_temperature': 0.03272135791010188}. Best is trial 102 with value: -14591.398800272149.\n",
            "[I 2024-12-09 17:53:36,687] Trial 166 finished with value: -14897.392842224805 and parameters: {'iterations': 969, 'depth': 5, 'learning_rate': 0.04755112317537292, 'l2_leaf_reg': 2.324718206218342, 'border_count': 214, 'random_strength': 0.9563742957812216, 'bagging_temperature': 0.03367316828696426}. Best is trial 102 with value: -14591.398800272149.\n",
            "[I 2024-12-09 17:53:42,481] Trial 167 finished with value: -14732.962376669742 and parameters: {'iterations': 992, 'depth': 4, 'learning_rate': 0.035813444505231905, 'l2_leaf_reg': 0.8138670806443794, 'border_count': 200, 'random_strength': 0.9829954190829169, 'bagging_temperature': 0.22698111522948214}. Best is trial 102 with value: -14591.398800272149.\n",
            "[I 2024-12-09 17:53:49,807] Trial 168 finished with value: -14648.314313710074 and parameters: {'iterations': 951, 'depth': 5, 'learning_rate': 0.03924360552249666, 'l2_leaf_reg': 1.9205578939732046, 'border_count': 205, 'random_strength': 0.9444478818145823, 'bagging_temperature': 0.023639718635885362}. Best is trial 102 with value: -14591.398800272149.\n",
            "[I 2024-12-09 17:53:55,454] Trial 169 finished with value: -14840.182396684473 and parameters: {'iterations': 967, 'depth': 4, 'learning_rate': 0.03857506440095114, 'l2_leaf_reg': 2.2698850565648274, 'border_count': 206, 'random_strength': 0.9427555905605739, 'bagging_temperature': 0.017111666451006088}. Best is trial 102 with value: -14591.398800272149.\n",
            "[I 2024-12-09 17:54:03,173] Trial 170 finished with value: -31376.641390803525 and parameters: {'iterations': 1000, 'depth': 5, 'learning_rate': 0.0010186396578522536, 'l2_leaf_reg': 1.222000386331522, 'border_count': 197, 'random_strength': 0.9968139901870379, 'bagging_temperature': 0.05196781011067665}. Best is trial 102 with value: -14591.398800272149.\n",
            "[I 2024-12-09 17:54:10,659] Trial 171 finished with value: -14776.36526476016 and parameters: {'iterations': 949, 'depth': 5, 'learning_rate': 0.04336560883308176, 'l2_leaf_reg': 1.9407122594768769, 'border_count': 206, 'random_strength': 0.9208528751626502, 'bagging_temperature': 0.01962750760326132}. Best is trial 102 with value: -14591.398800272149.\n",
            "[I 2024-12-09 17:54:17,927] Trial 172 finished with value: -14810.965760228264 and parameters: {'iterations': 921, 'depth': 5, 'learning_rate': 0.04023827032461392, 'l2_leaf_reg': 1.9328356299121079, 'border_count': 214, 'random_strength': 0.9524720771875853, 'bagging_temperature': 0.05626566117433356}. Best is trial 102 with value: -14591.398800272149.\n",
            "[I 2024-12-09 17:54:24,999] Trial 173 finished with value: -14646.613195923 and parameters: {'iterations': 906, 'depth': 5, 'learning_rate': 0.044148471130989214, 'l2_leaf_reg': 1.710713609594828, 'border_count': 203, 'random_strength': 0.9649200498547098, 'bagging_temperature': 0.03799094044508666}. Best is trial 102 with value: -14591.398800272149.\n",
            "[I 2024-12-09 17:54:31,892] Trial 174 finished with value: -14614.866972352951 and parameters: {'iterations': 876, 'depth': 5, 'learning_rate': 0.03733700601925581, 'l2_leaf_reg': 1.6054406095228035, 'border_count': 204, 'random_strength': 0.969347565201312, 'bagging_temperature': 0.0019373958119069043}. Best is trial 102 with value: -14591.398800272149.\n",
            "[I 2024-12-09 17:54:38,808] Trial 175 finished with value: -14757.069126348733 and parameters: {'iterations': 874, 'depth': 5, 'learning_rate': 0.03184136356686, 'l2_leaf_reg': 1.4320004252277354, 'border_count': 209, 'random_strength': 0.9733344584321861, 'bagging_temperature': 0.008857091040766624}. Best is trial 102 with value: -14591.398800272149.\n",
            "[I 2024-12-09 17:54:45,983] Trial 176 finished with value: -15365.964692433368 and parameters: {'iterations': 902, 'depth': 5, 'learning_rate': 0.01419458137008598, 'l2_leaf_reg': 1.638431784266289, 'border_count': 203, 'random_strength': 0.96073869239763, 'bagging_temperature': 0.03440961291334824}. Best is trial 102 with value: -14591.398800272149.\n",
            "[I 2024-12-09 17:54:52,474] Trial 177 finished with value: -14591.210367474585 and parameters: {'iterations': 841, 'depth': 5, 'learning_rate': 0.037030161492451044, 'l2_leaf_reg': 0.5467861324816301, 'border_count': 195, 'random_strength': 0.997526203795035, 'bagging_temperature': 0.003326957373186147}. Best is trial 177 with value: -14591.210367474585.\n",
            "[I 2024-12-09 17:54:59,287] Trial 178 finished with value: -14827.502596568273 and parameters: {'iterations': 844, 'depth': 5, 'learning_rate': 0.03692218943377519, 'l2_leaf_reg': 0.35399338205520703, 'border_count': 209, 'random_strength': 0.9982329321450505, 'bagging_temperature': 0.07405064526976678}. Best is trial 177 with value: -14591.210367474585.\n",
            "[I 2024-12-09 17:55:06,158] Trial 179 finished with value: -14738.940541944674 and parameters: {'iterations': 861, 'depth': 5, 'learning_rate': 0.035087063440750146, 'l2_leaf_reg': 0.25934780182522194, 'border_count': 216, 'random_strength': 0.9726414004003733, 'bagging_temperature': 0.0010788312775097159}. Best is trial 177 with value: -14591.210367474585.\n",
            "[I 2024-12-09 17:55:13,951] Trial 180 finished with value: -14680.713058759426 and parameters: {'iterations': 979, 'depth': 5, 'learning_rate': 0.03912562606634098, 'l2_leaf_reg': 0.6578169584292262, 'border_count': 203, 'random_strength': 0.9817798832571207, 'bagging_temperature': 0.0671572514174087}. Best is trial 177 with value: -14591.210367474585.\n",
            "[I 2024-12-09 17:55:21,577] Trial 181 finished with value: -14583.15620683092 and parameters: {'iterations': 982, 'depth': 5, 'learning_rate': 0.03904967577172475, 'l2_leaf_reg': 0.4679184439353312, 'border_count': 204, 'random_strength': 0.9944549473085341, 'bagging_temperature': 0.06852677760348727}. Best is trial 181 with value: -14583.15620683092.\n",
            "[I 2024-12-09 17:55:29,279] Trial 182 finished with value: -14723.29357346025 and parameters: {'iterations': 975, 'depth': 5, 'learning_rate': 0.03877177762771737, 'l2_leaf_reg': 0.25032485638913615, 'border_count': 204, 'random_strength': 0.9936223610126331, 'bagging_temperature': 0.0704733897175242}. Best is trial 181 with value: -14583.15620683092.\n",
            "[I 2024-12-09 17:55:36,910] Trial 183 finished with value: -14719.546026729298 and parameters: {'iterations': 984, 'depth': 5, 'learning_rate': 0.033730748341904745, 'l2_leaf_reg': 0.45462090346628864, 'border_count': 200, 'random_strength': 0.9785916152191836, 'bagging_temperature': 0.055856756145028066}. Best is trial 181 with value: -14583.15620683092.\n",
            "[I 2024-12-09 17:55:44,444] Trial 184 finished with value: -14685.359033322933 and parameters: {'iterations': 954, 'depth': 5, 'learning_rate': 0.03696282199044018, 'l2_leaf_reg': 0.07922880153714834, 'border_count': 213, 'random_strength': 0.15967281353706564, 'bagging_temperature': 0.0010426922887930429}. Best is trial 181 with value: -14583.15620683092.\n",
            "[I 2024-12-09 17:55:52,213] Trial 185 finished with value: -14701.130835045904 and parameters: {'iterations': 958, 'depth': 5, 'learning_rate': 0.037304871306552974, 'l2_leaf_reg': 0.09708251295096282, 'border_count': 224, 'random_strength': 0.9984998485611339, 'bagging_temperature': 0.002984297880286039}. Best is trial 181 with value: -14583.15620683092.\n",
            "[I 2024-12-09 17:55:59,635] Trial 186 finished with value: -14840.16209498173 and parameters: {'iterations': 967, 'depth': 5, 'learning_rate': 0.039062325513277284, 'l2_leaf_reg': 0.5765587531611005, 'border_count': 193, 'random_strength': 0.10799189673603837, 'bagging_temperature': 0.022818036959049038}. Best is trial 181 with value: -14583.15620683092.\n",
            "[I 2024-12-09 17:56:06,876] Trial 187 finished with value: -14562.395204944341 and parameters: {'iterations': 917, 'depth': 5, 'learning_rate': 0.03992132666763425, 'l2_leaf_reg': 0.617322491832281, 'border_count': 205, 'random_strength': 0.2237320852688401, 'bagging_temperature': 0.0795552800354303}. Best is trial 187 with value: -14562.395204944341.\n",
            "[I 2024-12-09 17:56:14,051] Trial 188 finished with value: -14754.651372650964 and parameters: {'iterations': 914, 'depth': 5, 'learning_rate': 0.04050558115520729, 'l2_leaf_reg': 0.07983019799355429, 'border_count': 214, 'random_strength': 0.1537791527374521, 'bagging_temperature': 0.07660117946116962}. Best is trial 187 with value: -14562.395204944341.\n",
            "[I 2024-12-09 17:56:21,433] Trial 189 finished with value: -14579.02196797179 and parameters: {'iterations': 926, 'depth': 5, 'learning_rate': 0.04306181573820028, 'l2_leaf_reg': 0.8270022600839803, 'border_count': 208, 'random_strength': 0.9654295903902423, 'bagging_temperature': 7.377995650729302e-05}. Best is trial 187 with value: -14562.395204944341.\n",
            "[I 2024-12-09 17:56:28,439] Trial 190 finished with value: -14757.47374206131 and parameters: {'iterations': 898, 'depth': 5, 'learning_rate': 0.04262405164874587, 'l2_leaf_reg': 0.7513646240359364, 'border_count': 205, 'random_strength': 0.22032744342501248, 'bagging_temperature': 0.012246009310877062}. Best is trial 187 with value: -14562.395204944341.\n",
            "[I 2024-12-09 17:56:36,020] Trial 191 finished with value: -14759.445727386312 and parameters: {'iterations': 947, 'depth': 5, 'learning_rate': 0.043454633577401154, 'l2_leaf_reg': 0.564676315760307, 'border_count': 209, 'random_strength': 0.29755129918590806, 'bagging_temperature': 0.0004824815935802612}. Best is trial 187 with value: -14562.395204944341.\n",
            "[I 2024-12-09 17:56:43,464] Trial 192 finished with value: -14720.658152186352 and parameters: {'iterations': 926, 'depth': 5, 'learning_rate': 0.039458701724272155, 'l2_leaf_reg': 0.7945846190356876, 'border_count': 212, 'random_strength': 0.9649645893085135, 'bagging_temperature': 0.035634182969865695}. Best is trial 187 with value: -14562.395204944341.\n",
            "[I 2024-12-09 17:56:50,752] Trial 193 finished with value: -14695.286147270384 and parameters: {'iterations': 917, 'depth': 5, 'learning_rate': 0.03599819042530108, 'l2_leaf_reg': 0.6682819492895415, 'border_count': 206, 'random_strength': 0.19261303500924173, 'bagging_temperature': 0.04795977409201917}. Best is trial 187 with value: -14562.395204944341.\n",
            "[I 2024-12-09 17:56:57,614] Trial 194 finished with value: -14687.419341813234 and parameters: {'iterations': 859, 'depth': 5, 'learning_rate': 0.04040918950265474, 'l2_leaf_reg': 0.9213403556281955, 'border_count': 198, 'random_strength': 0.1368199391144388, 'bagging_temperature': 0.029535179137986797}. Best is trial 187 with value: -14562.395204944341.\n",
            "[I 2024-12-09 17:57:04,172] Trial 195 finished with value: -14614.120792611726 and parameters: {'iterations': 840, 'depth': 5, 'learning_rate': 0.040284253559826684, 'l2_leaf_reg': 1.0347265658943672, 'border_count': 197, 'random_strength': 0.14723415736017, 'bagging_temperature': 0.08784881347539866}. Best is trial 187 with value: -14562.395204944341.\n",
            "[I 2024-12-09 17:57:10,788] Trial 196 finished with value: -14799.462934714078 and parameters: {'iterations': 834, 'depth': 5, 'learning_rate': 0.03730476632089044, 'l2_leaf_reg': 0.30978756808785723, 'border_count': 194, 'random_strength': 0.04906981272735875, 'bagging_temperature': 0.08808590570191434}. Best is trial 187 with value: -14562.395204944341.\n",
            "[I 2024-12-09 17:57:17,349] Trial 197 finished with value: -14748.6725670946 and parameters: {'iterations': 845, 'depth': 5, 'learning_rate': 0.04245857242659158, 'l2_leaf_reg': 0.6124979152685043, 'border_count': 200, 'random_strength': 0.09397450627043477, 'bagging_temperature': 0.06125188940111726}. Best is trial 187 with value: -14562.395204944341.\n",
            "[I 2024-12-09 17:57:23,376] Trial 198 finished with value: -14913.851721385474 and parameters: {'iterations': 785, 'depth': 5, 'learning_rate': 0.03954597436423128, 'l2_leaf_reg': 0.45581131788500406, 'border_count': 131, 'random_strength': 0.17725972435209625, 'bagging_temperature': 0.11743517067328091}. Best is trial 187 with value: -14562.395204944341.\n",
            "[I 2024-12-09 17:57:30,322] Trial 199 finished with value: -14896.715984406876 and parameters: {'iterations': 903, 'depth': 5, 'learning_rate': 0.03363102906443166, 'l2_leaf_reg': 1.088736525384092, 'border_count': 190, 'random_strength': 0.12770169182622926, 'bagging_temperature': 0.08890574275282906}. Best is trial 187 with value: -14562.395204944341.\n"
          ]
        }
      ]
    },
    {
      "cell_type": "code",
      "source": [
        "best_params = study.best_params\n",
        "iterations = best_params['iterations']\n",
        "depth = best_params['depth']\n",
        "learning_rate = best_params['learning_rate']\n",
        "l2_leaf_reg = best_params['l2_leaf_reg']\n",
        "border_count = best_params['border_count']\n",
        "verbose = False\n",
        "random_state = 13\n",
        "\n",
        "best_cat_model = CatBoostRegressor(iterations=iterations, depth=depth, learning_rate=learning_rate, l2_leaf_reg=l2_leaf_reg, border_count=border_count, verbose=verbose, random_state=random_state)"
      ],
      "metadata": {
        "id": "cQ82CpTCYIp6"
      },
      "execution_count": 31,
      "outputs": []
    },
    {
      "cell_type": "markdown",
      "source": [
        "# **5) Prediction data preparation and prediction**"
      ],
      "metadata": {
        "id": "ZISUsBCsonPG"
      }
    },
    {
      "cell_type": "code",
      "source": [
        "data_test = pd.read_csv('/content/drive/MyDrive/test_houses.csv')\n",
        "df_test = pd.DataFrame(data_test)"
      ],
      "metadata": {
        "id": "IWgFwxrOqNDj"
      },
      "execution_count": null,
      "outputs": []
    },
    {
      "cell_type": "code",
      "source": [
        "X_test = df_test.drop(columns=['Id'])\n",
        "\n",
        "cat_features_test = X_test.select_dtypes(include=['object', 'category']).columns\n",
        "num_features_test = X_test.select_dtypes(include=['int64', 'float64']).columns\n",
        "\n",
        "X_test_transformed = preprocessor.transform(X_test)"
      ],
      "metadata": {
        "id": "t7nR1VZ3qM8U"
      },
      "execution_count": null,
      "outputs": []
    },
    {
      "cell_type": "code",
      "source": [
        "best_model_pipeline = Pipeline(steps=[\n",
        "    ('preprocessor', preprocessor),\n",
        "    ('regressor', best_cat_model)\n",
        "])\n",
        "best_model_pipeline.fit(X, y)\n",
        "predictions = best_model_pipeline.predict(X_test)"
      ],
      "metadata": {
        "id": "k7IY16ezYVt-"
      },
      "execution_count": 34,
      "outputs": []
    },
    {
      "cell_type": "markdown",
      "source": [
        "# **6) Save output file**"
      ],
      "metadata": {
        "id": "yggYLfUeoyna"
      }
    },
    {
      "cell_type": "code",
      "source": [
        "data_submission = pd.read_csv('/content/drive/MyDrive/sample_submission_houses.csv')\n",
        "df_submission = pd.DataFrame(data_submission)\n",
        "\n",
        "df_submission[\"SalePrice\"] = predictions\n",
        "df_submission.to_csv(\"cat_output_submission_houses.csv\", index=False)\n"
      ],
      "metadata": {
        "id": "WRcR1GDraB66"
      },
      "execution_count": 35,
      "outputs": []
    }
  ]
}